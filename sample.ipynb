{
 "cells": [
  {
   "cell_type": "code",
   "execution_count": 15,
   "metadata": {},
   "outputs": [],
   "source": [
    "from datetime import datetime\n",
    "import pendulum"
   ]
  },
  {
   "cell_type": "code",
   "execution_count": 16,
   "metadata": {},
   "outputs": [],
   "source": [
    "def get_previous_workday_week(date, num_weeks = 1):\n",
    "    '''\n",
    "        A Premier workday week is defined as a week from Monday to Sunday\n",
    "    '''\n",
    "    days_to_subtract = num_weeks * 7\n",
    "\n",
    "    previous_week = pendulum.instance(date).subtract(days=days_to_subtract)\n",
    "\n",
    "    start_date = previous_week.start_of('week')\n",
    "    end_date = previous_week.end_of('week')\n",
    "    return (start_date.to_datetime_string(), end_date.to_datetime_string())"
   ]
  },
  {
   "cell_type": "code",
   "execution_count": 17,
   "metadata": {},
   "outputs": [],
   "source": [
    "def get_psa_date_range(date):\n",
    "    \"\"\"This is a five week range including the previous week, plus 4 future weeks for a total of 5 weeks.\n",
    "\n",
    "    Arguments:\n",
    "    date -- assumed to be a date in the current week\n",
    "    \"\"\"\n",
    "    days_to_subtract = 7\n",
    "\n",
    "    previous_week = pendulum.instance(date).subtract(days=days_to_subtract)\n",
    "    last_week = previous_week.add(weeks=4)\n",
    "\n",
    "    start_date = previous_week.start_of('week')\n",
    "    end_date = last_week.end_of('week')\n",
    "    return [start_date.to_datetime_string(), end_date.to_datetime_string()]\n"
   ]
  },
  {
   "cell_type": "code",
   "execution_count": 18,
   "metadata": {},
   "outputs": [
    {
     "name": "stdout",
     "output_type": "stream",
     "text": [
      "['2023-10-09 00:00:00', '2023-11-12 23:59:59']\n"
     ]
    }
   ],
   "source": [
    "result = get_psa_date_range(datetime.now())\n",
    "print(result)"
   ]
  }
 ],
 "metadata": {
  "kernelspec": {
   "display_name": "data_science_projects-T0XDCKti",
   "language": "python",
   "name": "python3"
  },
  "language_info": {
   "codemirror_mode": {
    "name": "ipython",
    "version": 3
   },
   "file_extension": ".py",
   "mimetype": "text/x-python",
   "name": "python",
   "nbconvert_exporter": "python",
   "pygments_lexer": "ipython3",
   "version": "3.10.4"
  }
 },
 "nbformat": 4,
 "nbformat_minor": 2
}
