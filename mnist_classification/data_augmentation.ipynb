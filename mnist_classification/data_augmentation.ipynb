{
 "cells": [
  {
   "cell_type": "code",
   "execution_count": 1,
   "metadata": {},
   "outputs": [
    {
     "name": "stdout",
     "output_type": "stream",
     "text": [
      "X shape: (70000, 784)\n",
      "y shape: (70000,)\n"
     ]
    }
   ],
   "source": [
    "import pandas as pd\n",
    "import numpy as np\n",
    "\n",
    "from sklearn.datasets import fetch_openml\n",
    "from sklearn.svm import SVC\n",
    "from sklearn.neighbors import KNeighborsClassifier\n",
    "from sklearn.model_selection import cross_val_score, cross_val_predict, GridSearchCV, KFold\n",
    "from sklearn.preprocessing import StandardScaler\n",
    "from sklearn.metrics import ConfusionMatrixDisplay\n",
    "import matplotlib.pyplot as plt\n",
    "from scipy import ndimage\n",
    "\n",
    "RANDOM_SEED = 2023\n",
    "\n",
    "mnist = fetch_openml('mnist_784', as_frame=False, parser='auto')\n",
    "\n",
    "\n",
    "X, y = mnist.data, mnist.target\n",
    "print(f'X shape: {X.shape}')\n",
    "print(f'y shape: {y.shape}')"
   ]
  },
  {
   "cell_type": "code",
   "execution_count": 11,
   "metadata": {},
   "outputs": [],
   "source": [
    "def shift_image(img, direction):\n",
    "    shift_val = []\n",
    "    img_shaped = img.reshape(28, 28)\n",
    "    match direction:\n",
    "        case 'up':\n",
    "            shift_val = [-1, 0]\n",
    "        case 'down':\n",
    "            shift_val = [1, 0]\n",
    "        case 'left':\n",
    "            shift_val = [0, -1]\n",
    "        case 'right':\n",
    "            shift_val = [0, 1]\n",
    "    \n",
    "    new_img = ndimage.shift(img_shaped, shift=shift_val, cval=0)\n",
    "    return new_img.reshape(784)\n",
    "\n",
    "\n",
    "def plot_digit(image_data):\n",
    "    image = image_data.reshape(28, 28)\n",
    "    plt.imshow(image, cmap='binary')\n",
    "    plt.axis(\"off\")\n",
    "\n",
    "# some_digit = X[0] # first image\n",
    "# plot_digit(some_digit)\n",
    "# plt.show()\n",
    "\n",
    "# print(f'The image label: {y[0]}')\n",
    "        \n",
    "\n",
    "\n"
   ]
  },
  {
   "cell_type": "code",
   "execution_count": 22,
   "metadata": {},
   "outputs": [
    {
     "name": "stdout",
     "output_type": "stream",
     "text": [
      "5\n",
      "(350000, 784)\n",
      "(3920,)\n"
     ]
    }
   ],
   "source": [
    "directions = ['up', 'down', 'left', 'right']\n",
    "new_arrays = [X]\n",
    "for d in directions:\n",
    "    new_images = np.apply_along_axis(shift_image, 1, X, direction=d)\n",
    "    new_arrays.append(new_images)\n",
    "\n",
    "print(len(new_arrays))\n",
    "X_aug = np.concatenate(tuple(new_arrays), axis=0)\n",
    "print(X_aug.shape)\n",
    "\n",
    "Y_aug = np.concatenate((y, y, y, y, y), axis=0)\n",
    "print(Y_aug.shape)"
   ]
  }
 ],
 "metadata": {
  "kernelspec": {
   "display_name": "data_science_projects-T0XDCKti",
   "language": "python",
   "name": "python3"
  },
  "language_info": {
   "codemirror_mode": {
    "name": "ipython",
    "version": 3
   },
   "file_extension": ".py",
   "mimetype": "text/x-python",
   "name": "python",
   "nbconvert_exporter": "python",
   "pygments_lexer": "ipython3",
   "version": "3.10.4"
  }
 },
 "nbformat": 4,
 "nbformat_minor": 2
}
