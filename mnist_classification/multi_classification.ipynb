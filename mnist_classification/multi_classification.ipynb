{
 "cells": [
  {
   "cell_type": "code",
   "execution_count": 8,
   "metadata": {},
   "outputs": [
    {
     "data": {
      "text/plain": [
       "array([[0, 0, 0, ..., 0, 0, 0],\n",
       "       [0, 0, 0, ..., 0, 0, 0],\n",
       "       [0, 0, 0, ..., 0, 0, 0],\n",
       "       ...,\n",
       "       [0, 0, 0, ..., 0, 0, 0],\n",
       "       [0, 0, 0, ..., 0, 0, 0],\n",
       "       [0, 0, 0, ..., 0, 0, 0]])"
      ]
     },
     "execution_count": 8,
     "metadata": {},
     "output_type": "execute_result"
    }
   ],
   "source": [
    "import pandas as pd\n",
    "import numpy as np\n",
    "\n",
    "from sklearn.datasets import fetch_openml\n",
    "from sklearn.svm import SVC\n",
    "from sklearn.model_selection import cross_val_score, cross_val_predict\n",
    "from sklearn.metrics import confusion_matrix, precision_score, recall_score, f1_score, precision_recall_curve, roc_auc_score\n",
    "import matplotlib.pyplot as plt\n",
    "\n",
    "RANDOM_SEED = 2023\n",
    "\n",
    "mnist = fetch_openml('mnist_784', as_frame=False, parser='auto')\n",
    "\n",
    "\n",
    "X, y = mnist.data, mnist.target\n",
    "X"
   ]
  },
  {
   "cell_type": "markdown",
   "metadata": {},
   "source": [
    "## What's the shape of the data\n",
    "\n",
    "Here MNIST is a set of 70,000 images each 28 X 28 pixels.\n",
    "\n",
    "The target labels (y) are the actual number that each image represents."
   ]
  },
  {
   "cell_type": "code",
   "execution_count": 9,
   "metadata": {},
   "outputs": [
    {
     "name": "stdout",
     "output_type": "stream",
     "text": [
      "[[0 0 0 ... 0 0 0]\n",
      " [0 0 0 ... 0 0 0]\n",
      " [0 0 0 ... 0 0 0]\n",
      " ...\n",
      " [0 0 0 ... 0 0 0]\n",
      " [0 0 0 ... 0 0 0]\n",
      " [0 0 0 ... 0 0 0]]\n",
      "(70000, 784)\n",
      "(70000,)\n"
     ]
    }
   ],
   "source": [
    "print(X)\n",
    "print(X.shape)\n",
    "print(y.shape)"
   ]
  },
  {
   "cell_type": "markdown",
   "metadata": {},
   "source": [
    "## View one digit of the set\n",
    "\n",
    "1. Grab one of the records, each one being an image\n",
    "2. Reshape it to 28 x 28\n",
    "3. Plot using `plt.imshow()`"
   ]
  },
  {
   "cell_type": "code",
   "execution_count": 10,
   "metadata": {},
   "outputs": [
    {
     "data": {
      "image/png": "[encoded data removed]",
      "text/plain": [
       "<Figure size 640x480 with 1 Axes>"
      ]
     },
     "metadata": {},
     "output_type": "display_data"
    },
    {
     "name": "stdout",
     "output_type": "stream",
     "text": [
      "The image label: 5\n"
     ]
    }
   ],
   "source": [
    "def plot_digit(image_data):\n",
    "    image = image_data.reshape(28, 28)\n",
    "    plt.imshow(image, cmap='binary')\n",
    "    plt.axis(\"off\")\n",
    "\n",
    "some_digit = X[0] # first image\n",
    "plot_digit(some_digit)\n",
    "plt.show()\n",
    "\n",
    "print(f'The image label: {y[0]}')"
   ]
  },
  {
   "cell_type": "markdown",
   "metadata": {},
   "source": [
    "## Now split the data into train and test sets\n",
    "This set is already pre-shuffled and split into training sets (first 60000) and test sets (10000)\n"
   ]
  },
  {
   "cell_type": "code",
   "execution_count": 11,
   "metadata": {},
   "outputs": [],
   "source": [
    "X_train, X_test, y_train, y_test = X[:60000], X[60000:], y[:60000], y[60000:]"
   ]
  },
  {
   "cell_type": "markdown",
   "metadata": {},
   "source": [
    "## Try SVC for multi_classification\n",
    "\n",
    "SVC natively handles binary classification\n",
    "\n",
    "If fed a multiclass data set it uses the one-vs-one scheme"
   ]
  },
  {
   "cell_type": "code",
   "execution_count": 12,
   "metadata": {},
   "outputs": [
    {
     "name": "stdout",
     "output_type": "stream",
     "text": [
      "['5']\n"
     ]
    }
   ],
   "source": [
    "svm_clf = SVC(random_state=RANDOM_SEED)\n",
    "svm_clf.fit(X_train[:2000], y_train[:2000])\n",
    "\n",
    "some_digit_pred = svm_clf.predict([some_digit])\n",
    "print(some_digit_pred)"
   ]
  },
  {
   "cell_type": "markdown",
   "metadata": {},
   "source": [
    "### SVC scores\n",
    "\n",
    "The model returns one score for each class, in this case 10\n",
    "\n",
    "We can see the classes that the model is trained on, and the corresponding scores for our '5' digit\n",
    "\n",
    "The score for the 5th class is 9.3 which is the highest"
   ]
  },
  {
   "cell_type": "code",
   "execution_count": 13,
   "metadata": {},
   "outputs": [
    {
     "name": "stdout",
     "output_type": "stream",
     "text": [
      "['0' '1' '2' '3' '4' '5' '6' '7' '8' '9']\n",
      "[[ 3.79297828  0.72949369  6.06184129  8.29800527 -0.29383983  9.30157597\n",
      "   1.74723215  2.77365456  7.20601456  4.82245092]]\n",
      "None\n"
     ]
    }
   ],
   "source": [
    "print(svm_clf.classes_)\n",
    "\n",
    "some_digit_scores = print(svm_clf.decision_function([some_digit]))\n",
    "print(some_digit_scores)"
   ]
  }
 ],
 "metadata": {
  "kernelspec": {
   "display_name": "data_science_projects-T0XDCKti",
   "language": "python",
   "name": "python3"
  },
  "language_info": {
   "codemirror_mode": {
    "name": "ipython",
    "version": 3
   },
   "file_extension": ".py",
   "mimetype": "text/x-python",
   "name": "python",
   "nbconvert_exporter": "python",
   "pygments_lexer": "ipython3",
   "version": "3.10.4"
  },
  "orig_nbformat": 4
 },
 "nbformat": 4,
 "nbformat_minor": 2
}
