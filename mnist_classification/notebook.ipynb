{
 "cells": [
  {
   "cell_type": "code",
   "execution_count": 58,
   "metadata": {},
   "outputs": [
    {
     "data": {
      "text/plain": [
       "array([[0, 0, 0, ..., 0, 0, 0],\n",
       "       [0, 0, 0, ..., 0, 0, 0],\n",
       "       [0, 0, 0, ..., 0, 0, 0],\n",
       "       ...,\n",
       "       [0, 0, 0, ..., 0, 0, 0],\n",
       "       [0, 0, 0, ..., 0, 0, 0],\n",
       "       [0, 0, 0, ..., 0, 0, 0]])"
      ]
     },
     "execution_count": 58,
     "metadata": {},
     "output_type": "execute_result"
    }
   ],
   "source": [
    "import pandas as pd\n",
    "from sklearn.datasets import fetch_openml\n",
    "from sklearn.dummy import DummyClassifier\n",
    "from sklearn.linear_model import SGDClassifier\n",
    "from sklearn.model_selection import cross_val_score\n",
    "import matplotlib.pyplot as plt\n",
    "\n",
    "RANDOM_SEED = 2023\n",
    "\n",
    "mnist = fetch_openml('mnist_784', as_frame=False, parser='auto')\n",
    "\n",
    "\n",
    "X, y = mnist.data, mnist.target\n",
    "X"
   ]
  },
  {
   "cell_type": "markdown",
   "metadata": {},
   "source": [
    "## What's the shape of the data\n",
    "\n",
    "Here MNIST is a set of 70,000 images each 28 X 28 pixels.\n",
    "\n",
    "The target labels (y) are the actual number that each image represents."
   ]
  },
  {
   "cell_type": "code",
   "execution_count": 59,
   "metadata": {},
   "outputs": [
    {
     "name": "stdout",
     "output_type": "stream",
     "text": [
      "[[0 0 0 ... 0 0 0]\n",
      " [0 0 0 ... 0 0 0]\n",
      " [0 0 0 ... 0 0 0]\n",
      " ...\n",
      " [0 0 0 ... 0 0 0]\n",
      " [0 0 0 ... 0 0 0]\n",
      " [0 0 0 ... 0 0 0]]\n",
      "(70000, 784)\n",
      "(70000,)\n"
     ]
    }
   ],
   "source": [
    "print(X)\n",
    "print(X.shape)\n",
    "print(y.shape)"
   ]
  },
  {
   "cell_type": "markdown",
   "metadata": {},
   "source": [
    "## View one digit of the set\n",
    "\n",
    "1. Grab one of the records, each one being an image\n",
    "2. Reshape it to 28 x 28\n",
    "3. Plot using `plt.imshow()`"
   ]
  },
  {
   "cell_type": "code",
   "execution_count": 60,
   "metadata": {},
   "outputs": [
    {
     "data": {
      "image/png": "[encoded data removed]",
      "text/plain": [
       "<Figure size 640x480 with 1 Axes>"
      ]
     },
     "metadata": {},
     "output_type": "display_data"
    },
    {
     "name": "stdout",
     "output_type": "stream",
     "text": [
      "The image label: 5\n"
     ]
    }
   ],
   "source": [
    "def plot_digit(image_data):\n",
    "    image = image_data.reshape(28, 28)\n",
    "    plt.imshow(image, cmap='binary')\n",
    "    plt.axis(\"off\")\n",
    "\n",
    "some_digit = X[0] # first image\n",
    "plot_digit(some_digit)\n",
    "plt.show()\n",
    "\n",
    "print(f'The image label: {y[0]}')"
   ]
  },
  {
   "cell_type": "markdown",
   "metadata": {},
   "source": [
    "## Now split the data into train and test sets\n",
    "This set is already pre-shuffled and split into training sets (first 60000) and test sets (10000)\n"
   ]
  },
  {
   "cell_type": "code",
   "execution_count": 61,
   "metadata": {},
   "outputs": [],
   "source": [
    "X_train, X_test, y_train, y_test = X[:60000], X[60000:], y[:60000], y[60000:]"
   ]
  },
  {
   "cell_type": "markdown",
   "metadata": {},
   "source": [
    "## First try a Binary Classifier\n",
    "\n",
    "In this case we will first try to just classify whether an image represents a 5 or not"
   ]
  },
  {
   "cell_type": "code",
   "execution_count": 62,
   "metadata": {},
   "outputs": [
    {
     "name": "stdout",
     "output_type": "stream",
     "text": [
      "(60000,)\n",
      "(10000,)\n"
     ]
    }
   ],
   "source": [
    "y_train_5 = (y_train == '5')\n",
    "print(y_train_5.shape)\n",
    "y_test_5 = (y_test == '5')\n",
    "print(y_test_5.shape)"
   ]
  },
  {
   "cell_type": "code",
   "execution_count": 63,
   "metadata": {},
   "outputs": [
    {
     "name": "stdout",
     "output_type": "stream",
     "text": [
      "Initial prediction for y[0]: [ True]\n"
     ]
    }
   ],
   "source": [
    "# fit the classifier to the data\n",
    "sgd_clf = SGDClassifier(random_state=RANDOM_SEED)\n",
    "sgd_clf.fit(X_train, y_train_5)\n",
    "\n",
    "# Check to see if it correctly predicts our random image of '5'\n",
    "some_digit_prediction = sgd_clf.predict([some_digit])\n",
    "print(f'Initial prediction for y[0]: {some_digit_prediction}')"
   ]
  },
  {
   "cell_type": "markdown",
   "metadata": {},
   "source": [
    "## Try to measure accuracy using cross validation\n",
    "Number of folds: 3\n",
    "\n",
    "The accuracy of the SGD classifier is about 95%.\n",
    "\n",
    "But that's not much better than a simple DummyClassifier, which has an accuracy of 90%.\n",
    "\n",
    "\n",
    "The reason for this is that only about 10% of the data is actually a 5, so even if we guess\n",
    "non-5 for every instance, we'd still be 90% accurate, which is what cross validation is showing."
   ]
  },
  {
   "cell_type": "code",
   "execution_count": 64,
   "metadata": {},
   "outputs": [
    {
     "name": "stdout",
     "output_type": "stream",
     "text": [
      "+++++++++++++++++++++++\n",
      "False    0.90965\n",
      "True     0.09035\n",
      "Name: proportion, dtype: float64\n",
      "+++++++++++++++++++++++\n",
      "[0.9587  0.9572  0.96035]\n",
      "+++++++++++++++++++++++\n",
      "[0.90965 0.90965 0.90965]\n"
     ]
    }
   ],
   "source": [
    "# Check the ratio of 5's to non-5s in our training set.\n",
    "print('+++++++++++++++++++++++')\n",
    "s = pd.Series(y_train_5)\n",
    "print(s.value_counts(normalize=True))\n",
    "\n",
    "print('+++++++++++++++++++++++')\n",
    "cv_result1 = cross_val_score(sgd_clf, X_train, y_train_5, cv=3, scoring='accuracy')\n",
    "print(cv_result1)\n",
    "\n",
    "print('+++++++++++++++++++++++')\n",
    "# Compare with DummyClassifier\n",
    "dummy_clf = DummyClassifier()\n",
    "dummy_clf.fit(X_train, y_train_5)\n",
    "dummy_cv_result1 = cross_val_score(dummy_clf, X_train, y_train_5, cv=3, scoring='accuracy')\n",
    "print(dummy_cv_result1)"
   ]
  }
 ],
 "metadata": {
  "kernelspec": {
   "display_name": "data_science_projects-T0XDCKti",
   "language": "python",
   "name": "python3"
  },
  "language_info": {
   "codemirror_mode": {
    "name": "ipython",
    "version": 3
   },
   "file_extension": ".py",
   "mimetype": "text/x-python",
   "name": "python",
   "nbconvert_exporter": "python",
   "pygments_lexer": "ipython3",
   "version": "3.10.4"
  },
  "orig_nbformat": 4
 },
 "nbformat": 4,
 "nbformat_minor": 2
}
