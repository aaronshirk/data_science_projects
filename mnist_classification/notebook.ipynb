{
 "cells": [
  {
   "cell_type": "code",
   "execution_count": 45,
   "metadata": {},
   "outputs": [
    {
     "data": {
      "text/plain": [
       "array([[0, 0, 0, ..., 0, 0, 0],\n",
       "       [0, 0, 0, ..., 0, 0, 0],\n",
       "       [0, 0, 0, ..., 0, 0, 0],\n",
       "       ...,\n",
       "       [0, 0, 0, ..., 0, 0, 0],\n",
       "       [0, 0, 0, ..., 0, 0, 0],\n",
       "       [0, 0, 0, ..., 0, 0, 0]])"
      ]
     },
     "execution_count": 45,
     "metadata": {},
     "output_type": "execute_result"
    }
   ],
   "source": [
    "import pandas as pd\n",
    "import numpy as np\n",
    "\n",
    "from sklearn.datasets import fetch_openml\n",
    "from sklearn.dummy import DummyClassifier\n",
    "from sklearn.linear_model import SGDClassifier\n",
    "from sklearn.model_selection import cross_val_score, cross_val_predict\n",
    "from sklearn.metrics import confusion_matrix, precision_score, recall_score, f1_score, precision_recall_curve\n",
    "import matplotlib.pyplot as plt\n",
    "\n",
    "RANDOM_SEED = 2023\n",
    "\n",
    "mnist = fetch_openml('mnist_784', as_frame=False, parser='auto')\n",
    "\n",
    "\n",
    "X, y = mnist.data, mnist.target\n",
    "X"
   ]
  },
  {
   "cell_type": "markdown",
   "metadata": {},
   "source": [
    "## What's the shape of the data\n",
    "\n",
    "Here MNIST is a set of 70,000 images each 28 X 28 pixels.\n",
    "\n",
    "The target labels (y) are the actual number that each image represents."
   ]
  },
  {
   "cell_type": "code",
   "execution_count": 46,
   "metadata": {},
   "outputs": [
    {
     "name": "stdout",
     "output_type": "stream",
     "text": [
      "[[0 0 0 ... 0 0 0]\n",
      " [0 0 0 ... 0 0 0]\n",
      " [0 0 0 ... 0 0 0]\n",
      " ...\n",
      " [0 0 0 ... 0 0 0]\n",
      " [0 0 0 ... 0 0 0]\n",
      " [0 0 0 ... 0 0 0]]\n",
      "(70000, 784)\n",
      "(70000,)\n"
     ]
    }
   ],
   "source": [
    "print(X)\n",
    "print(X.shape)\n",
    "print(y.shape)"
   ]
  },
  {
   "cell_type": "markdown",
   "metadata": {},
   "source": [
    "## View one digit of the set\n",
    "\n",
    "1. Grab one of the records, each one being an image\n",
    "2. Reshape it to 28 x 28\n",
    "3. Plot using `plt.imshow()`"
   ]
  },
  {
   "cell_type": "code",
   "execution_count": 47,
   "metadata": {},
   "outputs": [
    {
     "data": {
      "image/png": "[encoded data removed]",
      "text/plain": [
       "<Figure size 640x480 with 1 Axes>"
      ]
     },
     "metadata": {},
     "output_type": "display_data"
    },
    {
     "name": "stdout",
     "output_type": "stream",
     "text": [
      "The image label: 5\n"
     ]
    }
   ],
   "source": [
    "def plot_digit(image_data):\n",
    "    image = image_data.reshape(28, 28)\n",
    "    plt.imshow(image, cmap='binary')\n",
    "    plt.axis(\"off\")\n",
    "\n",
    "some_digit = X[0] # first image\n",
    "plot_digit(some_digit)\n",
    "plt.show()\n",
    "\n",
    "print(f'The image label: {y[0]}')"
   ]
  },
  {
   "cell_type": "markdown",
   "metadata": {},
   "source": [
    "## Now split the data into train and test sets\n",
    "This set is already pre-shuffled and split into training sets (first 60000) and test sets (10000)\n"
   ]
  },
  {
   "cell_type": "code",
   "execution_count": 48,
   "metadata": {},
   "outputs": [],
   "source": [
    "X_train, X_test, y_train, y_test = X[:60000], X[60000:], y[:60000], y[60000:]"
   ]
  },
  {
   "cell_type": "markdown",
   "metadata": {},
   "source": [
    "## First try a Binary Classifier\n",
    "\n",
    "In this case we will first try to just classify whether an image represents a 5 or not"
   ]
  },
  {
   "cell_type": "code",
   "execution_count": 49,
   "metadata": {},
   "outputs": [
    {
     "name": "stdout",
     "output_type": "stream",
     "text": [
      "(60000,)\n",
      "(10000,)\n"
     ]
    }
   ],
   "source": [
    "y_train_5 = (y_train == '5')\n",
    "print(y_train_5.shape)\n",
    "y_test_5 = (y_test == '5')\n",
    "print(y_test_5.shape)"
   ]
  },
  {
   "cell_type": "code",
   "execution_count": 50,
   "metadata": {},
   "outputs": [
    {
     "name": "stdout",
     "output_type": "stream",
     "text": [
      "Initial prediction for y[0]: [ True]\n"
     ]
    }
   ],
   "source": [
    "# fit the classifier to the data\n",
    "sgd_clf = SGDClassifier(random_state=RANDOM_SEED)\n",
    "sgd_clf.fit(X_train, y_train_5)\n",
    "\n",
    "# Check to see if it correctly predicts our random image of '5'\n",
    "some_digit_prediction = sgd_clf.predict([some_digit])\n",
    "print(f'Initial prediction for y[0]: {some_digit_prediction}')"
   ]
  },
  {
   "cell_type": "markdown",
   "metadata": {},
   "source": [
    "## Try to measure accuracy using cross validation\n",
    "Number of folds: 3\n",
    "\n",
    "The accuracy of the SGD classifier is about 95%.\n",
    "\n",
    "But that's not much better than a simple DummyClassifier, which has an accuracy of 90%.\n",
    "\n",
    "\n",
    "The reason for this is that only about 10% of the data is actually a 5, so even if we guess\n",
    "non-5 for every instance, we'd still be 90% accurate, which is what cross validation is showing."
   ]
  },
  {
   "cell_type": "code",
   "execution_count": 51,
   "metadata": {},
   "outputs": [
    {
     "name": "stdout",
     "output_type": "stream",
     "text": [
      "+++++++++++++++++++++++\n",
      "False    0.90965\n",
      "True     0.09035\n",
      "Name: proportion, dtype: float64\n",
      "+++++++++++++++++++++++\n",
      "[0.9587  0.9572  0.96035]\n",
      "+++++++++++++++++++++++\n",
      "[0.90965 0.90965 0.90965]\n"
     ]
    }
   ],
   "source": [
    "# Check the ratio of 5's to non-5s in our training set.\n",
    "print('+++++++++++++++++++++++')\n",
    "s = pd.Series(y_train_5)\n",
    "print(s.value_counts(normalize=True))\n",
    "\n",
    "print('+++++++++++++++++++++++')\n",
    "cv_result1 = cross_val_score(sgd_clf, X_train, y_train_5, cv=3, scoring='accuracy')\n",
    "print(cv_result1)\n",
    "\n",
    "print('+++++++++++++++++++++++')\n",
    "# Compare with DummyClassifier\n",
    "dummy_clf = DummyClassifier()\n",
    "dummy_clf.fit(X_train, y_train_5)\n",
    "dummy_cv_result1 = cross_val_score(dummy_clf, X_train, y_train_5, cv=3, scoring='accuracy')\n",
    "print(dummy_cv_result1)"
   ]
  },
  {
   "cell_type": "markdown",
   "metadata": {},
   "source": [
    "## Confusion Matrix\n",
    "\n",
    "The confusion matrix will help shine some light on the true performance of the model\n",
    "\n",
    "We can look at the _precision_, _recall_ and _f1_score_, which is also known as the harmonic mean of _precision_ and _recall_\n",
    "\n",
    "The precision is basically saying: \"When the model makes a positive prediction, it gets it right x% of the time\".\n",
    "- Our model gets it right ~ 76% of the time\n",
    "\n",
    "The recall is basically saying: \"Out of all the instances in the positive class, the model detects x% of them\"\n",
    "- Our model detects the positive class instances ~ 80% of them"
   ]
  },
  {
   "cell_type": "code",
   "execution_count": 52,
   "metadata": {},
   "outputs": [
    {
     "name": "stdout",
     "output_type": "stream",
     "text": [
      "+++++++++++++++++++++++\n",
      "[[53205  1374]\n",
      " [ 1101  4320]]\n"
     ]
    }
   ],
   "source": [
    "y_train_pred = cross_val_predict(sgd_clf, X_train, y_train_5, cv=3)\n",
    "cm = confusion_matrix(y_train_5, y_train_pred)\n",
    "print('+++++++++++++++++++++++')\n",
    "print(cm)"
   ]
  },
  {
   "cell_type": "code",
   "execution_count": 53,
   "metadata": {},
   "outputs": [
    {
     "name": "stdout",
     "output_type": "stream",
     "text": [
      "+++++++++++++++++++++++\n",
      "precision score: 0.7586933614330874\n",
      "+++++++++++++++++++++++\n",
      "recall score: 0.7969009407858328\n",
      "+++++++++++++++++++++++\n",
      "f1 score: 0.777327935222672\n"
     ]
    }
   ],
   "source": [
    "precision = precision_score(y_train_5, y_train_pred)\n",
    "print('+++++++++++++++++++++++')\n",
    "print(f'precision score: {precision}')\n",
    "\n",
    "print('+++++++++++++++++++++++')\n",
    "recall = recall_score(y_train_5, y_train_pred)\n",
    "print(f'recall score: {recall}')\n",
    "\n",
    "\n",
    "print('+++++++++++++++++++++++')\n",
    "f1 = f1_score(y_train_5, y_train_pred)\n",
    "print(f'f1 score: {f1}')"
   ]
  },
  {
   "cell_type": "markdown",
   "metadata": {},
   "source": [
    "## Precision and Recall tradeoff\n",
    "\n",
    "It's not possible to have perfect precision and recall.  If the precision goes up, the recall will do down and vice versa.\n",
    "\n",
    "Each classifier has a decision function which calculates a score for each instance.  If the score is above a certain threshold,\n",
    "then it detects positive class, otherwise negative.\n",
    "\n",
    "We can view the impact of the threshold on precision and recall"
   ]
  },
  {
   "cell_type": "code",
   "execution_count": 54,
   "metadata": {},
   "outputs": [
    {
     "name": "stdout",
     "output_type": "stream",
     "text": [
      "+++++++++++++++++++++++\n",
      "[ 10039.29544457 -16735.6013513  -32307.88690651 ...  12201.58775094\n",
      "  -6858.53784519  -9365.72501489]\n"
     ]
    }
   ],
   "source": [
    "y_scores = cross_val_predict(sgd_clf, X_train, y_train_5, cv=3, method=\"decision_function\")\n",
    "print('+++++++++++++++++++++++')\n",
    "print(y_scores)"
   ]
  },
  {
   "cell_type": "markdown",
   "metadata": {},
   "source": [
    "### Pick a threshold\n",
    "\n",
    "A graph like this one below can help us pick an appropriate threshold for our use-case\n",
    "\n",
    "In this case with a threshold = 3000, the precision is near 90%, but the recall is close to 65%"
   ]
  },
  {
   "cell_type": "code",
   "execution_count": 58,
   "metadata": {},
   "outputs": [
    {
     "data": {
      "image/png": "[encoded data removed]",
      "text/plain": [
       "<Figure size 800x400 with 1 Axes>"
      ]
     },
     "metadata": {},
     "output_type": "display_data"
    }
   ],
   "source": [
    "precisions, recalls, thresholds = precision_recall_curve(y_train_5, y_scores)\n",
    "\n",
    "fig1, ax1 = plt.subplots(figsize=(8, 4))\n",
    "ax1.plot(thresholds, precisions[:-1], \"b--\", label=\"Precision\", linewidth=2)\n",
    "ax1.plot(thresholds, recalls[:-1], \"g-\", label=\"Recall\", linewidth=2)\n",
    "\n",
    "threshold = 3000\n",
    "ax1.vlines(threshold, 0, 1.0, \"k\", \"dotted\", label='threshold')\n",
    "ax1.set_xlabel('Threshold')\n",
    "ax1.set_ylabel('Score')\n",
    "ax1.legend()\n",
    "ax1.grid()\n",
    "\n",
    "plt.show()"
   ]
  },
  {
   "cell_type": "markdown",
   "metadata": {},
   "source": [
    "### Plot precision directly against recall\n",
    "\n",
    "This is another way of seeing how precision and recall are related\n",
    "\n",
    "Here let's suppose we decide on a target precision of 90%\n",
    "Based on the graph, then it looks like recall would be around 60%"
   ]
  },
  {
   "cell_type": "code",
   "execution_count": 61,
   "metadata": {},
   "outputs": [
    {
     "data": {
      "image/png": "[encoded data removed]",
      "text/plain": [
       "<Figure size 400x400 with 1 Axes>"
      ]
     },
     "metadata": {},
     "output_type": "display_data"
    }
   ],
   "source": [
    "fig2, ax2 = plt.subplots(figsize=(4, 4))\n",
    "ax2.plot(recalls, precisions, linewidth=2, label=\"Precision/Recall Curve\")\n",
    "ax2.hlines(0.90, 0, 1.0, \"k\", \"dotted\", label=\"Target Precision\")\n",
    "ax2.set_xlabel('Recall')\n",
    "ax2.set_ylabel('Precision')\n",
    "ax2.legend()\n",
    "ax2.grid()\n",
    "\n",
    "plt.show()"
   ]
  },
  {
   "cell_type": "code",
   "execution_count": null,
   "metadata": {},
   "outputs": [],
   "source": []
  }
 ],
 "metadata": {
  "kernelspec": {
   "display_name": "data_science_projects-T0XDCKti",
   "language": "python",
   "name": "python3"
  },
  "language_info": {
   "codemirror_mode": {
    "name": "ipython",
    "version": 3
   },
   "file_extension": ".py",
   "mimetype": "text/x-python",
   "name": "python",
   "nbconvert_exporter": "python",
   "pygments_lexer": "ipython3",
   "version": "3.10.4"
  },
  "orig_nbformat": 4
 },
 "nbformat": 4,
 "nbformat_minor": 2
}
